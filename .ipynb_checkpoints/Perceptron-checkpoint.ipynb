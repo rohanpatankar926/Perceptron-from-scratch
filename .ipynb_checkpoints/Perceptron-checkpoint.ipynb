{
 "cells": [
  {
   "cell_type": "code",
   "execution_count": 4,
   "id": "e7c50607",
   "metadata": {},
   "outputs": [],
   "source": [
    "import pandas as pd \n",
    "import numpy as np\n",
    "import seaborn as sns\n",
    "import os\n",
    "import matplotlib.pyplot as plt\n",
    "import joblib\n",
    "\n",
    "plt.style.use(\"fivethirtyeight\")"
   ]
  },
  {
   "cell_type": "code",
   "execution_count": 13,
   "id": "03247d8d",
   "metadata": {},
   "outputs": [],
   "source": [
    "class Perceptron:\n",
    "    def __init__(self,eta:float=None,epochs:int=None):\n",
    "        self.weights=np.random.randn(3)*1e-4 #small random weights\n",
    "        trainings= eta is not None and epochs is not None\n",
    "        if trainings:\n",
    "            print(f\"initial weight before training is-->{self.weights}\")\n",
    "        self.eta=eta\n",
    "        self.epochs=epochs\n",
    "\n",
    "    def _z_outcome(self,inputs,weights):\n",
    "        return np.dot(inputs,weights)\n",
    "    \n",
    "    def activation_function(self,z):\n",
    "        return np.where(z >0 ,1,0)\n",
    "    \n",
    "    def fit(self,X,y):\n",
    "        self.x=X\n",
    "        self.y=y\n",
    "        x_with_bias=np.c_[self.x,-np.ones((len(self.X),1))]\n",
    "        print(f\"x with bias: {x_with_bias}\")\n",
    "        \n",
    "        for epoch in range(self.epoch):\n",
    "            print(f\"for epoch >> {epoch}\")\n",
    "            z=self._z_outcome(x_with_bias,self.weights)\n",
    "            y_hat=self.activation_function(z)\n",
    "            print(f\"Predicted value after forward pass: {y_hat}\")\n",
    "            self.error=self.y-y_hat\n",
    "            print(f\"error: {self.error}\")\n",
    "            self.weights=self.weights+self.eta*np.dot(x_with_bias.T,self.error)\n",
    "            print(f\"Updated weights after epoch: {epoch}/{self.epochs}: \\n{self.weights} \")\n",
    "    \n",
    "    def predict(self,test_inputs):\n",
    "        x_with_bias=np.c_[self.x,-np.ones((len(test_inputs),1))]\n",
    "        z=self._z_outcome(x_with_bias,self.weights)\n",
    "        return self.activation_function\n",
    "    \n",
    "    def loss(self):\n",
    "        total_loss=np.sum(self.error)\n",
    "        print(f\"Total loss: {total_loss}\\n\")\n",
    "        return total_loss\n",
    "    \n",
    "    def _create_dir_return_path(self,model_dir,filename):\n",
    "        os.makedirs(model_dir,exist_ok=True)\n",
    "        return os.path.join(model_dir,filename)\n",
    "    \n",
    "    def save(self,filename,model_dir):\n",
    "        if model_dir is not None:\n",
    "            model_file_path=self._create_dir_return_path(model_dir,filename)\n",
    "            joblib.dump(self,model_file_path)\n",
    "        else:\n",
    "            model_file_path=self._create_dir_return_path(\"model\",filename)\n",
    "            joblib.dump(self,model_file_path)\n",
    "            \n",
    "    def load(self,file_path):\n",
    "        return joblib.load(file_path)\n",
    "    "
   ]
  },
  {
   "cell_type": "code",
   "execution_count": null,
   "id": "794d568f",
   "metadata": {},
   "outputs": [],
   "source": [
    "()"
   ]
  }
 ],
 "metadata": {
  "kernelspec": {
   "display_name": "Python 3 (ipykernel)",
   "language": "python",
   "name": "python3"
  },
  "language_info": {
   "codemirror_mode": {
    "name": "ipython",
    "version": 3
   },
   "file_extension": ".py",
   "mimetype": "text/x-python",
   "name": "python",
   "nbconvert_exporter": "python",
   "pygments_lexer": "ipython3",
   "version": "3.10.4"
  }
 },
 "nbformat": 4,
 "nbformat_minor": 5
}
